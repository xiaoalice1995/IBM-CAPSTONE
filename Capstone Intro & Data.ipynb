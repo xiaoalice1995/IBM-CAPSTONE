{
    "cells": [
        {
            "cell_type": "markdown",
            "metadata": {
                "collapsed": true
            },
            "source": "# Capstone Project Proposal- The Battle of Neighborhoods\nPeiyu Xiao\n## Introduction\nToronto is a vital city that the technology industry is booming which attracting countless young people for seeking opportunities. The data shows that as the third largest city for tech talent in North America, Toronto had a net inflow of 117,000 people in 2018. Large numbers of migrant workers have also brought a huge market for housing rentals. This project introduces an extremely convenient solution in location choosing of housing rentals, which is of great value to Toronto real estate companies."
        },
        {
            "cell_type": "markdown",
            "metadata": {},
            "source": "## Data\nThe data used in this project are: \n    1. Postal Code information of Toronto, categorized in Borough and Neighbourhood from Wikipedia:(https://en.wikipedia.org/wiki/List_of_postal_codes_of_Canada:M); \n    2. Geospatial data of Boroughs (http://cocl.us/Geospatial_data); \n    3. Venues and relevant data supported by Foursquare API; \n    4. Random user data for examining the model.\n"
        },
        {
            "cell_type": "code",
            "execution_count": null,
            "metadata": {},
            "outputs": [],
            "source": ""
        }
    ],
    "metadata": {
        "kernelspec": {
            "display_name": "Python 3.6",
            "language": "python",
            "name": "python3"
        },
        "language_info": {
            "codemirror_mode": {
                "name": "ipython",
                "version": 3
            },
            "file_extension": ".py",
            "mimetype": "text/x-python",
            "name": "python",
            "nbconvert_exporter": "python",
            "pygments_lexer": "ipython3",
            "version": "3.6.9"
        }
    },
    "nbformat": 4,
    "nbformat_minor": 1
}