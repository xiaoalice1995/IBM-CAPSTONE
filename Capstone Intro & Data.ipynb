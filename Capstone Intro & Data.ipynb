{
    "cells": [
        {
            "cell_type": "markdown",
            "metadata": {
                "collapsed": true
            },
            "source": "# Capstone Project Proposal- The Battle of Neighborhoods\nPeiyu Xiao\n## Introduction\nToronto is a vital city that the technology industry is booming which attracting countless young people for seeking opportunities. The data shows that as the third largest city for tech talent in North America, Toronto had a net inflow of 117,000 people in 2018. Large numbers of migrant workers have also brought a huge market for housing rentals. \\\nHowever, mostly when people move to a new city, they have to decide where to live in a short time. The process for housing agent may not transsparent enough which may cause dissatisfaction. Last but not least, renters may have demand that are even unrealized by themselves. \\\nThis project introduces an extremely convenient solution in location choosing of housing rentals - it is so transparent that enable real estate companies communicate smoothly to clients with a list of venue categories, and clients can simply tick on the list, which is of great value to Toronto real estate companies."
        },
        {
            "cell_type": "markdown",
            "metadata": {},
            "source": "## Data\nIn this project I will use the data of Toronto shows below to look at the algorithm of the project with building a recommendation system. \\\nThe data used in this project are: \n    1. Postal Code information of Toronto, categorized in Borough and Neighbourhood from Wikipedia:(https://en.wikipedia.org/wiki/List_of_postal_codes_of_Canada:M); \n    2. Geospatial data of Boroughs (http://cocl.us/Geospatial_data); \n    3. Venues and relevant data supported by Foursquare API; \n    4. Random user data for examining the model.\n"
        },
        {
            "cell_type": "markdown",
            "metadata": {},
            "source": "## Methodology\nIn this project I will create a data based on a recommendation system that allows a user to choose the neighbourhood, which fit the best to his interests. \nThere are used Toronto\u2019s data and random generated for user data to test the system. \n1. Preparing and Obtaining the Data. \\\nFirst, scrap the information about boroughs and neighborhoods in Toronto from the following Wikipedia page: wiki = \n'https://en.wikipedia.org/wiki/List_of_postal_codes_of_Canada:M'. Pandas\u2019 command \u201cread_HTML\u201d to read HTML tables into a list of DataFrame objects and remove cells with a borough that is \u201cNot assigned\u201d. Then substitute unnamed neighborhoods for the name of relevant borough. After that, group the table by the postal code.\\\nThe next step is to add the geographical coordinates (Latitude and Longitude) of each postal code to our data. Some prepared date from http://cocl.us/Geospatial_data will be used, but it is possible to use geocoder as well. \\\nIn the prototype, use the Foursquare API to get the venues for each neighbourhood, after that I limit the amount of venues per neighbourhood to 100 and the range from the centre of the neighbourhood to 500 m. With this API I can get all the venues for each neighbourhood and group them for each neighbourhood. Get a new table with the neighbourhood as the index and percentage of each category available in that neighbourhood applying OneHot \nencode in the categories and the mean for the amount venues for each category. \n2. Random User. \\\nTo generate a random user, get a list of all categories available in the city. After that, select a random number from 1 to 10 to represent the amount of categories selected by the user. Then, from the list of categories, sample the same amount obtaining the list of categories that our user will have interest in. Create a table with the categories as the columns and one row, where the values are 1 if the user has that category in his list and 0 for vice versa. This will result in a user profile that will be used in the recommendation system. \n3. Recommendation system. \\\nNow, to make a recommendation system. Compare our user profile to the table with the neighbourhoods and the mean of value for the amount of venues of each category in it. So I will multiply both matrix and apply a sum for each row. As the result I get a new matrix with the neighbourhoods and the score for each one of them. The higher the score is, the better the neighbourhood matches the user\u2019s interests."
        },
        {
            "cell_type": "code",
            "execution_count": null,
            "metadata": {},
            "outputs": [],
            "source": ""
        }
    ],
    "metadata": {
        "kernelspec": {
            "display_name": "Python 3.6",
            "language": "python",
            "name": "python3"
        },
        "language_info": {
            "codemirror_mode": {
                "name": "ipython",
                "version": 3
            },
            "file_extension": ".py",
            "mimetype": "text/x-python",
            "name": "python",
            "nbconvert_exporter": "python",
            "pygments_lexer": "ipython3",
            "version": "3.6.9"
        }
    },
    "nbformat": 4,
    "nbformat_minor": 1
}