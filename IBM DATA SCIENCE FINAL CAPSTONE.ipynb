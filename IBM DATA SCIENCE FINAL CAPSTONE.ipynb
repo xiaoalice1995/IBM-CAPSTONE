{
    "cells": [
        {
            "cell_type": "markdown",
            "metadata": {},
            "source": "# The Battle of Neighborhoods\nImport the libraries needed first."
        },
        {
            "cell_type": "code",
            "execution_count": null,
            "metadata": {
                "scrolled": true
            },
            "outputs": [
                {
                    "name": "stdout",
                    "output_type": "stream",
                    "text": "Solving environment: done\n\n## Package Plan ##\n\n  environment location: /opt/conda/envs/Python36\n\n  added / updated specs: \n    - geocoder\n\n\nThe following packages will be downloaded:\n\n    package                    |            build\n    ---------------------------|-----------------\n    python_abi-3.6             |          1_cp36m           4 KB  conda-forge\n    ca-certificates-2020.6.20  |       hecda079_0         145 KB  conda-forge\n    geocoder-1.38.1            |             py_1          53 KB  conda-forge\n    openssl-1.1.1g             |       h516909a_1         2.1 MB  conda-forge\n    certifi-2020.6.20          |   py36h9f0ad1d_0         151 KB  conda-forge\n    ratelim-0.1.6              |             py_2           6 KB  conda-forge\n    ------------------------------------------------------------\n                                           Total:         2.5 MB\n\nThe following NEW packages will be INSTALLED:\n\n    geocoder:        1.38.1-py_1       conda-forge\n    python_abi:      3.6-1_cp36m       conda-forge\n    ratelim:         0.1.6-py_2        conda-forge\n\nThe following packages will be UPDATED:\n\n    certifi:         2020.6.20-py36_0              --> 2020.6.20-py36h9f0ad1d_0 conda-forge\n    openssl:         1.1.1g-h7b6447c_0             --> 1.1.1g-h516909a_1        conda-forge\n\nThe following packages will be DOWNGRADED:\n\n    ca-certificates: 2020.6.24-0                   --> 2020.6.20-hecda079_0     conda-forge\n\n\nDownloading and Extracting Packages\npython_abi-3.6       | 4 KB      | ##################################### | 100% \nca-certificates-2020 | 145 KB    | ##################################### | 100% \ngeocoder-1.38.1      | 53 KB     | ##################################### | 100% \nopenssl-1.1.1g       | 2.1 MB    | ##################################### | 100% \ncertifi-2020.6.20    | 151 KB    | ##################################### | 100% \nratelim-0.1.6        | 6 KB      | ##################################### | 100% \nPreparing transaction: done\nVerifying transaction: done\nExecuting transaction: done\nSolving environment: - "
                }
            ],
            "source": "import numpy as np # library to handle data in a vectorized manner\n\nimport pandas as pd # library for data analsysis\npd.set_option('display.max_columns', None)\npd.set_option('display.max_rows', None)\n\nimport json # library to handle JSON files\n\n!conda install -c conda-forge geocoder --yes\nimport geocoder\nfrom geopy.geocoders import Nominatim # convert an address into latitude and longitude values\n\nimport requests # library to handle requests\nfrom pandas.io.json import json_normalize # tranform JSON file into a pandas dataframe\n\n# Matplotlib and associated plotting modules\nimport matplotlib.pyplot as plt\nimport matplotlib.cm as cm\nimport matplotlib.colors as colors\n\n!conda install -c conda-forge folium=0.5.0 --yes\nimport folium # map rendering library\n\n#from bs4 import BeautifulSoup\n#import csv\n\nimport random"
        },
        {
            "cell_type": "markdown",
            "metadata": {},
            "source": "We get the HTML of the Wiki page, convert into a table with help of read_html (read HTML tables into a list of DataFrame objects), remove cells with a borough that is Not assigned."
        },
        {
            "cell_type": "code",
            "execution_count": null,
            "metadata": {},
            "outputs": [],
            "source": "wiki = 'https://en.wikipedia.org/wiki/List_of_postal_codes_of_Canada:_M'\nwikipedia_page = requests.get(wiki)\n\ndf_raw = pd.read_html(wikipedia_page.content, header=0)[0]\ndf_new = df_raw[df_raw.Borough != 'Not assigned']\n\ndf_new.head()"
        },
        {
            "cell_type": "markdown",
            "metadata": {},
            "source": "Check if there is a \"Not assigned\" in Neighbourhood"
        },
        {
            "cell_type": "code",
            "execution_count": null,
            "metadata": {},
            "outputs": [],
            "source": "df_new.loc[df_new.Neighbourhood == 'Not assigned']"
        },
        {
            "cell_type": "markdown",
            "metadata": {},
            "source": "If the Neighbourhood shows 'Not assigned', change it with the value of Borough"
        },
        {
            "cell_type": "code",
            "execution_count": null,
            "metadata": {},
            "outputs": [],
            "source": "df_new.Neighbourhood.replace('Not assigned',df_new.Borough,inplace=True)\ndf_new.head(8)"
        },
        {
            "cell_type": "markdown",
            "metadata": {},
            "source": "Group Neighbourhoods with the same Postcode"
        },
        {
            "cell_type": "code",
            "execution_count": null,
            "metadata": {},
            "outputs": [],
            "source": "df_toronto = df_new.groupby(['Postal Code', 'Borough'])['Neighbourhood'].apply(lambda x: ', '.join(x))\ndf_toronto = df_toronto.reset_index()\ndf_toronto.rename(columns = {'Postal Code':'PostalCode'}, inplace = True)\ndf_toronto.rename(columns = {'Neighbourhood':'Neighborhood'}, inplace = True)\ndf_toronto.head()"
        },
        {
            "cell_type": "code",
            "execution_count": null,
            "metadata": {},
            "outputs": [],
            "source": "df_toronto.shape"
        },
        {
            "cell_type": "markdown",
            "metadata": {},
            "source": "Obtain the latitude and the longitude coordinates of each neighborhood from the csv file"
        },
        {
            "cell_type": "code",
            "execution_count": null,
            "metadata": {},
            "outputs": [],
            "source": "url = 'http://cocl.us/Geospatial_data'\ndf_geo=pd.read_csv(url)\ndf_geo.head()"
        },
        {
            "cell_type": "code",
            "execution_count": null,
            "metadata": {},
            "outputs": [],
            "source": "df_geo.shape"
        },
        {
            "cell_type": "markdown",
            "metadata": {},
            "source": "After making sure the two tables have the same shape, join them to the data."
        },
        {
            "cell_type": "code",
            "execution_count": null,
            "metadata": {},
            "outputs": [],
            "source": "df_toronto = df_toronto.join(df_geo.set_index('Postal Code'), on='PostalCode')\ndf_toronto"
        },
        {
            "cell_type": "markdown",
            "metadata": {},
            "source": "## Using the Foursquare API\nUse the Foursquare API to get the venues of each neighborhood. Get the latitude longitude of Toronto first."
        },
        {
            "cell_type": "code",
            "execution_count": null,
            "metadata": {},
            "outputs": [],
            "source": "address = 'Toronto, Ontario'\n\ngeolocator = Nominatim(user_agent=\"toronto_explorer\")\nlocation = geolocator.geocode(address)\nlatitude = location.latitude\nlongitude = location.longitude\nprint('The geograpical coordinate of Toronto are {}, {}.'.format(latitude, longitude))"
        },
        {
            "cell_type": "markdown",
            "metadata": {},
            "source": "Print the map of toronto with all neighborhoods marked on it to help visualize"
        },
        {
            "cell_type": "code",
            "execution_count": null,
            "metadata": {},
            "outputs": [],
            "source": "# create map of Toronto using latitude and longitude values\nmap_Toronto = folium.Map(location=[latitude, longitude], zoom_start=10)\n\n# add markers to map\nfor lat, lng, borough, neighborhood in zip(df_toronto['Latitude'], df_toronto['Longitude'], df_toronto['Borough'], df_toronto['Neighborhood']):\n    label = '{}, {}'.format(neighborhood, borough)\n    label = folium.Popup(label, parse_html=True)\n    folium.CircleMarker(\n        [lat, lng],\n        radius=5,\n        popup=label,\n        color='blue',\n        fill=True,\n        fill_color='#3186cc',\n        fill_opacity=0.7,\n        ).add_to(map_Toronto)  \n    \nmap_Toronto"
        },
        {
            "cell_type": "code",
            "execution_count": null,
            "metadata": {},
            "outputs": [],
            "source": "CLIENT_ID = 'AAKZPMP4VRDXISCMWBXBQIEZJXXUBNWSX3WXAMCK5UR5M3NR' # your Foursquare ID\nCLIENT_SECRET = 'TOUMAEYEAZKNOAYGLYDHAWQKUCHXYC04ASND2DTNVXVBXVIN' # your Foursquare Secret\nVERSION = '20180604' # Foursquare API version\n\nprint('Your credentails:')\nprint('CLIENT_ID: ' + CLIENT_ID)\nprint('CLIENT_SECRET:' + CLIENT_SECRET)"
        },
        {
            "cell_type": "code",
            "execution_count": null,
            "metadata": {},
            "outputs": [],
            "source": "# Define a maximum of 100 venues and a 500 meters radius from the center of the neighborhood\nLIMIT = 150\nradius = 500"
        },
        {
            "cell_type": "markdown",
            "metadata": {},
            "source": "Define a fundction to extract the nearby venues from the json that returns from the API request"
        },
        {
            "cell_type": "code",
            "execution_count": null,
            "metadata": {},
            "outputs": [],
            "source": "def getNearbyVenues(names, latitudes, longitudes, radius=500):\n    \n    venues_list=[]\n    for name, lat, lng in zip(names, latitudes, longitudes):\n        print(name)\n            \n        # create the API request URL\n        url = 'https://api.foursquare.com/v2/venues/explore?&client_id={}&client_secret={}&v={}&ll={},{}&radius={}&limit={}'.format(\n            CLIENT_ID, \n            CLIENT_SECRET, \n            VERSION, \n            lat, \n            lng, \n            radius, \n            LIMIT)\n            \n        # make the GET request\n        results = requests.get(url).json()[\"response\"]['groups'][0]['items']\n        \n        # return only relevant information for each nearby venue\n        venues_list.append([(\n            name, \n            lat, \n            lng, \n            v['venue']['name'], \n            v['venue']['location']['lat'], \n            v['venue']['location']['lng'],  \n            v['venue']['categories'][0]['name']) for v in results])\n\n    nearby_venues = pd.DataFrame([item for venue_list in venues_list for item in venue_list])\n    nearby_venues.columns = ['Neighborhood', \n                  'Neighborhood Latitude', \n                  'Neighborhood Longitude', \n                  'Venue', \n                  'Venue Latitude', \n                  'Venue Longitude', \n                  'Venue Category']\n    \n    return(nearby_venues)"
        },
        {
            "cell_type": "markdown",
            "metadata": {},
            "source": "Get the nearby venues for all neighborhoods"
        },
        {
            "cell_type": "code",
            "execution_count": null,
            "metadata": {},
            "outputs": [],
            "source": "toronto_venues = getNearbyVenues(names=df_toronto['Neighborhood'],\n                                   latitudes=df_toronto['Latitude'],\n                                   longitudes=df_toronto['Longitude']\n                                  )"
        },
        {
            "cell_type": "markdown",
            "metadata": {},
            "source": "Check the number of venue in our database"
        },
        {
            "cell_type": "code",
            "execution_count": null,
            "metadata": {},
            "outputs": [],
            "source": "print(toronto_venues.shape)\ntoronto_venues.head()"
        },
        {
            "cell_type": "markdown",
            "metadata": {},
            "source": "Check the number of venue in each neighborhood"
        },
        {
            "cell_type": "code",
            "execution_count": null,
            "metadata": {},
            "outputs": [],
            "source": "toronto_venues.groupby('Neighborhood').count()"
        },
        {
            "cell_type": "markdown",
            "metadata": {},
            "source": "We can see that some of the neighborhoods reach the limit of 150 venue. But that shouldn't affect so much the prototype.\\\n\nHow many categorys can we find in Toronto?"
        },
        {
            "cell_type": "code",
            "execution_count": null,
            "metadata": {},
            "outputs": [],
            "source": "print('There are {} uniques categories.'.format(len(toronto_venues['Venue Category'].unique())))"
        },
        {
            "cell_type": "markdown",
            "metadata": {},
            "source": "Now we can onehot encode to prepare the dataset for our recommendation system"
        },
        {
            "cell_type": "code",
            "execution_count": null,
            "metadata": {},
            "outputs": [],
            "source": "# one hot encoding\ntoronto_onehot = pd.get_dummies(toronto_venues[['Venue Category']], prefix=\"\", prefix_sep=\"\")\n\n# add neighborhood column back to dataframe\ntoronto_onehot['Neighborhood'] = toronto_venues['Neighborhood'] \n\n# move neighborhood column to the first column\nfixed_columns = [toronto_onehot.columns[-1]] + list(toronto_onehot.columns[:-1])\ntoronto_onehot = toronto_onehot[fixed_columns]\n\ntoronto_onehot.head()"
        },
        {
            "cell_type": "code",
            "execution_count": null,
            "metadata": {},
            "outputs": [],
            "source": "toronto_onehot.shape"
        },
        {
            "cell_type": "code",
            "execution_count": null,
            "metadata": {},
            "outputs": [],
            "source": "toronto_grouped = toronto_onehot.groupby('Neighborhood').mean().reset_index()\ntoronto_grouped.head()"
        },
        {
            "cell_type": "code",
            "execution_count": null,
            "metadata": {},
            "outputs": [],
            "source": "toronto_grouped.shape"
        },
        {
            "cell_type": "markdown",
            "metadata": {},
            "source": "## Random user\nCreate a list of all avaible categorys"
        },
        {
            "cell_type": "code",
            "execution_count": null,
            "metadata": {},
            "outputs": [],
            "source": "category_list = list(toronto_grouped)\ndel category_list[0]"
        },
        {
            "cell_type": "code",
            "execution_count": null,
            "metadata": {},
            "outputs": [],
            "source": "category_amount = random.randint(1,11)"
        },
        {
            "cell_type": "code",
            "execution_count": null,
            "metadata": {},
            "outputs": [],
            "source": "user_categories = random.sample(category_list, category_amount)"
        },
        {
            "cell_type": "code",
            "execution_count": null,
            "metadata": {},
            "outputs": [],
            "source": "aux_list = []\naux_list2 = []\nfor i in range(len(category_list)):\n    aux_list2.append(1)\n    if category_list[i] in user_categories:\n        aux_list.append(1)\n    else:\n        aux_list.append(0)\nuser_categories"
        },
        {
            "cell_type": "markdown",
            "metadata": {},
            "source": "Create a dataframe for the user where the columns will have the categories name and the values will be always 1"
        },
        {
            "cell_type": "code",
            "execution_count": null,
            "metadata": {},
            "outputs": [],
            "source": "user_df = pd.DataFrame.from_records([aux_list], columns=category_list)\nuser_df.head()"
        },
        {
            "cell_type": "code",
            "execution_count": null,
            "metadata": {},
            "outputs": [],
            "source": "aux_df = pd.DataFrame(aux_list2)"
        },
        {
            "cell_type": "code",
            "execution_count": null,
            "metadata": {},
            "outputs": [],
            "source": "user_profile = user_df.transpose().dot(aux_df.transpose()[0])\n#user_profile = user_profile.set_index('index')\n#user_profile.rename(columns={'index': 'Categories', '0': 'value'}, inplace = True)\n#user_profile = user_profile.set_index('Categories')\nuser_profile"
        },
        {
            "cell_type": "markdown",
            "metadata": {},
            "source": "Here's the user's favorite categories. The next thing is to get the categories table for all neighborhoods and compare them to see which neighborhood is the best fit for the user."
        },
        {
            "cell_type": "code",
            "execution_count": null,
            "metadata": {},
            "outputs": [],
            "source": "categories_table = toronto_grouped.set_index(toronto_grouped['Neighborhood'])\ncategories_table = categories_table.drop('Neighborhood', 1)\ncategories_table.head()"
        },
        {
            "cell_type": "markdown",
            "metadata": {},
            "source": "Multiply the matric cateregories_table and user_profile to obtain the score for each neighborhood"
        },
        {
            "cell_type": "code",
            "execution_count": null,
            "metadata": {},
            "outputs": [],
            "source": "recommendationTable_df = ((categories_table*user_profile).sum(axis=1))\nrecommendationTable_df.head()"
        },
        {
            "cell_type": "code",
            "execution_count": null,
            "metadata": {},
            "outputs": [],
            "source": "recommendationTable_df = pd.DataFrame(recommendationTable_df.sort_values(ascending=False))"
        },
        {
            "cell_type": "code",
            "execution_count": null,
            "metadata": {},
            "outputs": [],
            "source": "recommendationTable_df.columns = ['Score']\nrecommendationTableFinal_df = recommendationTable_df.reset_index()\nrecommendationTableFinal_df.head()"
        },
        {
            "cell_type": "markdown",
            "metadata": {},
            "source": "The score for the top neighborhoods has been prepared, join the table with the table that has the location"
        },
        {
            "cell_type": "code",
            "execution_count": null,
            "metadata": {},
            "outputs": [],
            "source": "df_neighborhood_score = df_toronto.join(recommendationTableFinal_df.set_index('Neighborhood'), on ='Neighborhood')\ndf_neighborhood_score.head()"
        },
        {
            "cell_type": "code",
            "execution_count": null,
            "metadata": {},
            "outputs": [],
            "source": "df_neighborhood_score.sort_values(by='Score', ascending=False, inplace = True)\ndf_neighborhood_score.reset_index(drop=True, inplace = True)\ndf_neighborhood_score.head()"
        },
        {
            "cell_type": "markdown",
            "metadata": {},
            "source": "Finally print on the map the 5 best neighborhoods for our user"
        },
        {
            "cell_type": "code",
            "execution_count": null,
            "metadata": {},
            "outputs": [],
            "source": "recommendation_map = folium.Map(location=[latitude, longitude], zoom_start=11)\n\n# set color scheme for the clusters\nx = 5\nys = [i + x + (i*x)**2 for i in range(5)]\ncolors_array = cm.rainbow(np.linspace(0, 1, len(ys)))\nrainbow = [colors.rgb2hex(i) for i in colors_array]\n\nmarkers_colors = []\nfor lat, lon, poi, score, index in zip(df_neighborhood_score['Latitude'], df_neighborhood_score['Longitude'], df_neighborhood_score['Neighborhood'], df_neighborhood_score['Score'], range(5)):\n    label = folium.Popup(str(poi) + ' Score ' + str(score), parse_html=True)\n    folium.CircleMarker(\n        [lat, lon],\n        radius=5,\n        popup=label,\n        color=rainbow[int(index)],\n        fill=True,\n        fill_color=rainbow[int(index)],\n        fill_opacity=0.7).add_to(recommendation_map)\n       \nrecommendation_map"
        },
        {
            "cell_type": "code",
            "execution_count": null,
            "metadata": {},
            "outputs": [],
            "source": ""
        },
        {
            "cell_type": "code",
            "execution_count": null,
            "metadata": {},
            "outputs": [],
            "source": ""
        },
        {
            "cell_type": "code",
            "execution_count": null,
            "metadata": {},
            "outputs": [],
            "source": ""
        }
    ],
    "metadata": {
        "kernelspec": {
            "display_name": "Python 3.6",
            "language": "python",
            "name": "python3"
        },
        "language_info": {
            "codemirror_mode": {
                "name": "ipython",
                "version": 3
            },
            "file_extension": ".py",
            "mimetype": "text/x-python",
            "name": "python",
            "nbconvert_exporter": "python",
            "pygments_lexer": "ipython3",
            "version": "3.6.9"
        }
    },
    "nbformat": 4,
    "nbformat_minor": 1
}